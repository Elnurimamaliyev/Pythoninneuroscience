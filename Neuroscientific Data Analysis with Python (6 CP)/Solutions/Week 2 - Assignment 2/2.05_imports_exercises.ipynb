{
 "cells": [
  {
   "cell_type": "markdown",
   "metadata": {},
   "source": [
    "# Excercises 2.5 - Imports"
   ]
  },
  {
   "cell_type": "markdown",
   "metadata": {},
   "source": [
    "## Exercise 1 - Fix the following code\n",
    "This code does not run - why? Fix it!"
   ]
  },
  {
   "cell_type": "code",
   "execution_count": 1,
   "metadata": {},
   "outputs": [],
   "source": [
    "# your solution here\n"
   ]
  },
  {
   "cell_type": "markdown",
   "metadata": {},
   "source": [
    "## Exercise 2 - Import a new module\n",
    "The [time](https://docs.python.org/3/library/time.html) module is part of the python standard library and can be used to:\n",
    "- get the time, using the function `time()` in the module, or\n",
    "- make your programm do nothing until a specific amount of time, in seconds, has passed, using the `sleep(seconds)` function in the module.\n",
    "\n",
    "Import the module and use it to 1) get the time and 2) make your computer \"sleep\" for 4 seconds.\n"
   ]
  },
  {
   "cell_type": "code",
   "execution_count": 4,
   "metadata": {},
   "outputs": [
    {
     "name": "stdout",
     "output_type": "stream",
     "text": [
      "Current time: 1698589958.7953308\n",
      "Sleeping for 4 seconds...\n",
      "Awake! 4 seconds have passed.\n"
     ]
    }
   ],
   "source": [
    "import time\n",
    "\n",
    "# Get the current time\n",
    "current_time = time.time()\n",
    "print(\"Current time:\", current_time)\n",
    "\n",
    "# Make the program \"sleep\" for 4 seconds\n",
    "print(\"Sleeping for 4 seconds...\")\n",
    "time.sleep(4)\n",
    "print(\"Awake! 4 seconds have passed.\")"
   ]
  },
  {
   "cell_type": "code",
   "execution_count": 6,
   "metadata": {},
   "outputs": [
    {
     "name": "stdout",
     "output_type": "stream",
     "text": [
      "1698590170.9261813\n",
      "computer sleeped for 2.4 sec\n"
     ]
    }
   ],
   "source": [
    "# your solution here\n",
    "import time\n",
    "\n",
    "# get the current time in seconds since the epoch\n",
    "now=time.time()\n",
    "print(now)\n",
    "\n",
    "\n",
    "def sleepfunction(stime):\n",
    "    time.sleep(stime)\n",
    "a=2.4\n",
    "sleepfunction(a)\n",
    "print(f\"computer sleeped for {a} sec\")\n"
   ]
  },
  {
   "cell_type": "markdown",
   "metadata": {},
   "source": [
    "## Exercise 3 - Importing your own code\n",
    "The function below computes the cumulative sum over the values in a list.\n",
    "\n",
    "Given a list [1,2,3], the cumulative sum is a new list with these items: [1, 1+2, 1+2+3] = [1, 3, 6]."
   ]
  },
  {
   "cell_type": "code",
   "execution_count": 40,
   "metadata": {},
   "outputs": [
    {
     "name": "stdout",
     "output_type": "stream",
     "text": [
      "[1, 3, 6, 10, 13, 15, 19]\n"
     ]
    }
   ],
   "source": [
    "values = [1,2,3,4,3,2,4]\n",
    "\n",
    "def cumulative_sum(x):\n",
    "    emptylist = []\n",
    "    for idx in range(len(x)):\n",
    "        emptylist.append(sum(x[:idx+1]))\n",
    "    return emptylist\n",
    "\n",
    "print(cumulative_sum(values))\n",
    "\n",
    "\n",
    "\n",
    "# your solution here"
   ]
  },
  {
   "cell_type": "code",
   "execution_count": null,
   "metadata": {},
   "outputs": [],
   "source": [
    "values = [1,2,3,4,3,2,4]\n",
    "\n",
    "cumulative_sum = []\n",
    "for idx in range(len(values)):\n",
    "    cumulative_sum.append(sum(values[:idx+1]))\n",
    "\n",
    "print(cumulative_sum)\n",
    "\n",
    "# your solution here"
   ]
  },
  {
   "cell_type": "markdown",
   "metadata": {},
   "source": [
    "Save this function to a file, import the function from the file, and use it."
   ]
  },
  {
   "cell_type": "code",
   "execution_count": 42,
   "metadata": {},
   "outputs": [
    {
     "data": {
      "text/plain": [
       "[21, 66, 98, 108]"
      ]
     },
     "execution_count": 42,
     "metadata": {},
     "output_type": "execute_result"
    }
   ],
   "source": [
    "new_list = [21, 45, 32, 10]\n",
    "# your solution here\n",
    "\n",
    "import cumsum as cs\n",
    "cs.cumsum(new_list)\n",
    "\n"
   ]
  }
 ],
 "metadata": {
  "kernelspec": {
   "display_name": "Python 3 (ipykernel)",
   "language": "python",
   "name": "python3"
  },
  "language_info": {
   "codemirror_mode": {
    "name": "ipython",
    "version": 3
   },
   "file_extension": ".py",
   "mimetype": "text/x-python",
   "name": "python",
   "nbconvert_exporter": "python",
   "pygments_lexer": "ipython3",
   "version": "3.12.0"
  },
  "vscode": {
   "interpreter": {
    "hash": "7ea0ec616133ead53c1908c8f6539f5c0cb9b2f78368e2bb6ab3f847e89ca400"
   }
  }
 },
 "nbformat": 4,
 "nbformat_minor": 4
}
