{
 "cells": [
  {
   "cell_type": "markdown",
   "metadata": {},
   "source": [
    "# Lecture 2.5 - Using external code with the import statment\n",
    "\n",
    "We have already worked with external code using the import function, withouth much explanation:"
   ]
  },
  {
   "cell_type": "code",
   "execution_count": null,
   "metadata": {},
   "outputs": [],
   "source": [
    "import matplotlib.pyplot as plt\n",
    "\n",
    "plt.plot([0, 10], [29, 30], 'or')\n",
    "plt.show()"
   ]
  },
  {
   "cell_type": "markdown",
   "metadata": {},
   "source": [
    "So what is going on? Let's use a simpler example:\n",
    "\n",
    "The `os` package allows you - among other things - to discover and manipulate directories and files.\n",
    "\n",
    "To use the `os` package, we need to import it. The general syntax for importing is\n",
    "\n",
    "`import PACKAGE_NAME`\n",
    "\n",
    "You can then access functions within the package using the dot notation: `PACKAGE_NAME.FUNCTION_NAME`"
   ]
  },
  {
   "cell_type": "code",
   "execution_count": null,
   "metadata": {},
   "outputs": [],
   "source": [
    "import os\n",
    "os.getcwd()  # print the current working directory"
   ]
  },
  {
   "cell_type": "markdown",
   "metadata": {},
   "source": [
    "Some packages contain modules. You also access them with dot notation: `PACKAGE_NAME.MODULE_NAME.FUNCTION_NAME`.\n",
    "For instance, functions in the `os.path` module can by accessed like so:"
   ]
  },
  {
   "cell_type": "code",
   "execution_count": null,
   "metadata": {},
   "outputs": [],
   "source": [
    "import os\n",
    "current_dir = os.getcwd()\n",
    "print(os.path.split(current_dir))"
   ]
  },
  {
   "cell_type": "markdown",
   "metadata": {},
   "source": [
    "Sometimes, the modules need to be imported explicitely, with `import PACKAGE_NAME.MODULE_NAME`, for instance `import os.path`.\n",
    "\n",
    "Referring to modules within packages can lead to long names or sometimes you want to use only a module. The `as` keyword allows you to define an alias: `import PACKAGE_NAME as ALIAS` or `import PACKAGE_NAME.MODULE_NAME as ALIAS`:"
   ]
  },
  {
   "cell_type": "code",
   "execution_count": null,
   "metadata": {},
   "outputs": [],
   "source": [
    "import os.path as osp\n",
    "print(osp.split(current_dir))  # this is equivalent to calling `os.path.split()`"
   ]
  },
  {
   "cell_type": "markdown",
   "metadata": {},
   "source": [
    "That's exactly what we're doing when import matplotlib - we want to use all functions in the `pyplot` module of the `matplotlib` package.\n",
    "\n",
    "We could import it via `import matplotlib.pyplot`, but then the code for plotting would be very long:"
   ]
  },
  {
   "cell_type": "code",
   "execution_count": null,
   "metadata": {},
   "outputs": [],
   "source": [
    "import matplotlib.pyplot\n",
    "\n",
    "matplotlib.pyplot.plot([0, 10], [29, 30], 'or')\n",
    "matplotlib.pyplot.show()"
   ]
  },
  {
   "cell_type": "markdown",
   "metadata": {},
   "source": [
    "The `as plt` provides a shortcut, for accessing everything under `matplotlib.pyplot` through the much shorter `plt`.\n",
    "\n",
    "If you try to import sth that does not exist, you will get an error:"
   ]
  },
  {
   "cell_type": "code",
   "execution_count": null,
   "metadata": {},
   "outputs": [],
   "source": [
    "import dream"
   ]
  },
  {
   "cell_type": "markdown",
   "metadata": {},
   "source": [
    "Here are common aliases everyone in the python world uses - if you use these packages, import them the same as everyone else so that others understand your code more easily."
   ]
  },
  {
   "cell_type": "code",
   "execution_count": null,
   "metadata": {},
   "outputs": [],
   "source": [
    "import numpy as np\n",
    "import pandas as pd\n",
    "import matplotlib.pyplot as plt"
   ]
  },
  {
   "cell_type": "markdown",
   "metadata": {},
   "source": [
    "Just for completeness, there is another way of importing: `from PACKAGE_NAME import MODULE_NAME as ALIAS`"
   ]
  },
  {
   "cell_type": "code",
   "execution_count": null,
   "metadata": {},
   "outputs": [],
   "source": [
    "from matplotlib import pyplot as plt22\n",
    "plt22.plot([1, 2],[2, 4])\n",
    "plt22.show()"
   ]
  },
  {
   "cell_type": "markdown",
   "metadata": {},
   "source": [
    "### Importing your own code\n",
    "So far, everything happened inside a single notebook.\n",
    "\n",
    "But what if we want to re-use our own code across notebooks, for instance the `mean` or `concat` functions?\n",
    "\n",
    "We can save the code to a python code file, with the ending `.py` and import it!\n",
    "\n",
    "Say we have this function for getting the max from a list:"
   ]
  },
  {
   "cell_type": "code",
   "execution_count": 5,
   "metadata": {},
   "outputs": [
    {
     "data": {
      "text/plain": [
       "54"
      ]
     },
     "execution_count": 5,
     "metadata": {},
     "output_type": "execute_result"
    }
   ],
   "source": [
    "def my_max_local(data):\n",
    "    max_val = None\n",
    "    for d in data:\n",
    "        if max_val is None or d > max_val:\n",
    "            max_val = d\n",
    "    return max_val\n",
    "\n",
    "my_max_local([12, 23, 54, 1, 45])"
   ]
  },
  {
   "cell_type": "markdown",
   "metadata": {},
   "source": [
    "If we want to re-use this function in a different notebook, we'd have to copy the code to a cell in the new notebook. This is tedious and clutters the notebook.\n",
    "\n",
    "Instead, we can save the function to a python file and import it:\n",
    "\n",
    "- open a text editor (get a good one that has syntax highlighting etc - I use visual studio code)\n",
    "- open a new, empty file\n",
    "- copy the function text to that file\n",
    "- rename the function from `my_max_local` to `my_max`\n",
    "- save it in the same folder as the current notebook, under the name: `my_functions.py`. It is important to save it to the same folder - otherwise python will not be able to find the file!!"
   ]
  },
  {
   "cell_type": "code",
   "execution_count": 7,
   "metadata": {},
   "outputs": [
    {
     "data": {
      "text/plain": [
       "54"
      ]
     },
     "execution_count": 7,
     "metadata": {},
     "output_type": "execute_result"
    }
   ],
   "source": [
    "import my_functions\n",
    "my_functions.my_max([12, 23, 54, 1, 45])"
   ]
  },
  {
   "cell_type": "markdown",
   "metadata": {},
   "source": [
    "What if we don't want to type `my_functions`, every time we want to use `my_max`?"
   ]
  },
  {
   "cell_type": "code",
   "execution_count": 8,
   "metadata": {},
   "outputs": [
    {
     "data": {
      "text/plain": [
       "54"
      ]
     },
     "execution_count": 8,
     "metadata": {},
     "output_type": "execute_result"
    }
   ],
   "source": [
    "import my_functions as mf  # will import the my_max function for direct use\n",
    "mf.my_max([12, 23, 54, 1, 45])"
   ]
  },
  {
   "cell_type": "code",
   "execution_count": 11,
   "metadata": {},
   "outputs": [
    {
     "data": {
      "text/plain": [
       "54"
      ]
     },
     "execution_count": 11,
     "metadata": {},
     "output_type": "execute_result"
    }
   ],
   "source": [
    "from my_functions import my_max # will import the my_max function for direct use\n",
    "my_max([12, 23, 54, 1, 45])"
   ]
  },
  {
   "cell_type": "code",
   "execution_count": 12,
   "metadata": {},
   "outputs": [
    {
     "data": {
      "text/plain": [
       "54"
      ]
     },
     "execution_count": 12,
     "metadata": {},
     "output_type": "execute_result"
    }
   ],
   "source": [
    "from my_functions import *  # will import all functions in the file `my_functions.py` for direct use\n",
    "my_max([12, 23, 54, 1, 45])"
   ]
  }
 ],
 "metadata": {
  "kernelspec": {
   "display_name": "Python 3 (ipykernel)",
   "language": "python",
   "name": "python3"
  },
  "language_info": {
   "codemirror_mode": {
    "name": "ipython",
    "version": 3
   },
   "file_extension": ".py",
   "mimetype": "text/x-python",
   "name": "python",
   "nbconvert_exporter": "python",
   "pygments_lexer": "ipython3",
   "version": "3.12.0"
  },
  "vscode": {
   "interpreter": {
    "hash": "844788b94f9ee473b2eed3da39df541824bbf0c14efa02373504d07ed6d07994"
   }
  }
 },
 "nbformat": 4,
 "nbformat_minor": 4
}
