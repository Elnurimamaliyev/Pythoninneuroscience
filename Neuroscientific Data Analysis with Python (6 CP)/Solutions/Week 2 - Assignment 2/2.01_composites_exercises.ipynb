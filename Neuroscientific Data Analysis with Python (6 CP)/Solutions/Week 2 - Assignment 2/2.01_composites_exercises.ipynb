{
 "cells": [
  {
   "cell_type": "markdown",
   "metadata": {},
   "source": [
    "# Exercises 2.1 - Composite data types\n",
    "## Exercise - Immutable tuples vs lists\n",
    "We are given data as a tuple. We want to set the third value to 3.\n",
    "Fix below code to make this work:"
   ]
  },
  {
   "cell_type": "code",
   "execution_count": 7,
   "metadata": {},
   "outputs": [
    {
     "name": "stdout",
     "output_type": "stream",
     "text": [
      "(1, 2, -12, 4)\n"
     ]
    }
   ],
   "source": [
    "data = (1, 2, -12, 4)\n",
    "#data[2] = 3\n",
    "print(data)"
   ]
  },
  {
   "cell_type": "code",
   "execution_count": 4,
   "metadata": {},
   "outputs": [
    {
     "name": "stdout",
     "output_type": "stream",
     "text": [
      "[1, 2, 3, 4]\n"
     ]
    }
   ],
   "source": [
    "# fix the code here\n",
    "data=list(data)\n",
    "\n",
    "data[2] = 3\n",
    "print(data)"
   ]
  },
  {
   "cell_type": "markdown",
   "metadata": {},
   "source": [
    "## Exercise - find the unique values in a list using `set`\n",
    "Taylor claims he as ten friends - he can even prove it using python programming:"
   ]
  },
  {
   "cell_type": "code",
   "execution_count": 9,
   "metadata": {},
   "outputs": [
    {
     "name": "stdout",
     "output_type": "stream",
     "text": [
      "I have 10 friends.\n"
     ]
    }
   ],
   "source": [
    "my_friends = ['Tom', 'Tim', 'Tamara', 'Anatol', 'Emre', 'Franziska', 'Anatol', 'Samson', 'Tim', 'Milo']\n",
    "print(f\"I have {len(my_friends)} friends.\")"
   ]
  },
  {
   "cell_type": "markdown",
   "metadata": {},
   "source": [
    "Correct the mistake by removing the duplicates from this list:"
   ]
  },
  {
   "cell_type": "code",
   "execution_count": 25,
   "metadata": {},
   "outputs": [
    {
     "name": "stdout",
     "output_type": "stream",
     "text": [
      "He have 8 friends and names of his friends are: {'Emre', 'Tamara', 'Samson', 'Milo', 'Tim', 'Franziska', 'Anatol', 'Tom'}\n"
     ]
    }
   ],
   "source": [
    "# Your solution here\n",
    "his_friends = set(my_friends)\n",
    "len(his_friends)\n",
    "\n",
    "print('He have', len(his_friends),'friends and names of his friends are:',his_friends)"
   ]
  },
  {
   "cell_type": "markdown",
   "metadata": {},
   "source": [
    "## Exercise - Dictionaries and f-strings\n",
    "We are given a dictionary with the name of chemical elements and the associated atomic number (number of protons in the nucleus).\n",
    "\n",
    "1. Delete vibranium from the list dictionary.\n",
    "2. Add the element silver and it's atomic number to the dictionary\n",
    "2. Then loop over the key:value pairs of the dictionary and print the element name and it's atomic number in a nicely formatted way using f-strings, each element in a separate line."
   ]
  },
  {
   "cell_type": "code",
   "execution_count": 14,
   "metadata": {},
   "outputs": [
    {
     "name": "stdout",
     "output_type": "stream",
     "text": [
      "{'zinc': 30, 'gold': 79, 'vibranium': 1000, 'radium': 88}\n",
      "{'zinc': 30, 'gold': 79, 'radium': 88}\n",
      "{'zinc': 30, 'gold': 79, 'radium': 88, 'silver': 47}\n",
      "The atomic number for zinc is 30\n",
      "The atomic number for gold is 79\n",
      "The atomic number for radium is 88\n",
      "The atomic number for silver is 47\n"
     ]
    }
   ],
   "source": [
    "atomic_numbers = {'zinc': 30, 'gold': 79, 'vibranium': 1000, 'radium': 88}\n",
    "print(atomic_numbers)\n",
    "\n",
    "# your solution here\n"
   ]
  },
  {
   "cell_type": "code",
   "execution_count": 1,
   "metadata": {},
   "outputs": [
    {
     "name": "stdout",
     "output_type": "stream",
     "text": [
      "{'zinc': 30, 'gold': 79, 'vibranium': 1000, 'radium': 88}\n",
      "{'zinc': 30, 'gold': 79, 'radium': 88}\n",
      "{'zinc': 30, 'gold': 79, 'radium': 88, 'silver': 47}\n",
      "The atomic number for zinc is 30\n",
      "The atomic number for gold is 79\n",
      "The atomic number for radium is 88\n",
      "The atomic number for silver is 47\n"
     ]
    }
   ],
   "source": [
    "atomic_numbers = {'zinc': 30, 'gold': 79, 'vibranium': 1000, 'radium': 88}\n",
    "print(atomic_numbers)\n",
    "del atomic_numbers['vibranium']\n",
    "\n",
    "print (atomic_numbers)\n",
    "atomic_numbers['silver'] = 47\n",
    "print (atomic_numbers)\n",
    "\n",
    "for idx in atomic_numbers:\n",
    "    print (f\"The atomic number for {idx} is {atomic_numbers[idx]}\")"
   ]
  },
  {
   "cell_type": "code",
   "execution_count": 2,
   "metadata": {},
   "outputs": [
    {
     "name": "stdout",
     "output_type": "stream",
     "text": [
      "Tom 123\n",
      "Alice 246234\n",
      "Yolanda 110\n"
     ]
    }
   ],
   "source": [
    "phone_book = {'Tom': 123, 'Alice': 246234, 'Yolanda': 110}\n",
    "for (key, val) in phone_book.items():\n",
    "    print(key, val)"
   ]
  }
 ],
 "metadata": {
  "kernelspec": {
   "display_name": "Python 3 (ipykernel)",
   "language": "python",
   "name": "python3"
  },
  "language_info": {
   "codemirror_mode": {
    "name": "ipython",
    "version": 3
   },
   "file_extension": ".py",
   "mimetype": "text/x-python",
   "name": "python",
   "nbconvert_exporter": "python",
   "pygments_lexer": "ipython3",
   "version": "3.12.0"
  },
  "vscode": {
   "interpreter": {
    "hash": "97ead24bb190f3c846c8ccaf2b3dc07d0b052bfb8e69b5aeffb27504f0f68adb"
   }
  }
 },
 "nbformat": 4,
 "nbformat_minor": 4
}
