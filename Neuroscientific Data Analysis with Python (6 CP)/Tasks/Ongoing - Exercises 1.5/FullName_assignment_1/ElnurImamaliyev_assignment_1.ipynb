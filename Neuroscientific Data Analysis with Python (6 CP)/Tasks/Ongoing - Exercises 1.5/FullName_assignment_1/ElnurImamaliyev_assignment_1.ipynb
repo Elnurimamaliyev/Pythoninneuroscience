{
 "cells": [
  {
   "cell_type": "markdown",
   "metadata": {},
   "source": [
    "# Neuroscientific data analysis in Matlab Winter Semester 2023/2024\n",
    "## Assignment – Week 1 - Plotting voltage responses\n",
    "\n",
    "Please upload your solution until Tuesday 24.10.23, end of the day (23.59 p.m.) to the folder `assignment uploads/assignment 1` in Stud.IP! \n",
    "\n",
    "__Important:__ Please replace ‘FullName` in the file name with your own full (first and last) name when saving and uploading the file!\n",
    "\n",
    "The goal of this assignment is to plot intracellularly recorded responses of a neuron to a current stimulus.\n",
    "\n",
    "### Files:\n",
    "Please download all files in the folder. The data files `Retzius_cell.npz` and `P_cell.npz` should be in the same folder as this notebook.\n",
    "\n",
    "### Neuroscience background:\n",
    "For intracellular recordings, a glass needle filled with an electrolyte is inserted through the cell membrane into a neuron. With one silver wire in the electrolyte and one silver wire in the bath solution surrounding the cell, it is possible to record the so-called membrane potential, the difference in the voltage between the inside and the outside of the cell. Most vertebrate neurons have resting potentials of approximately -70 mV, invertebrate neurons are often less polarized and closer to -50 mV. When the neuron is stimulated, it will change its membrane potential and may produce action potentials (spikes).\n",
    "\n",
    "In this assignment you will see intracellular recordings of the membrane potentials of two different neurons in the leech nervous system, a so called Retzius cell (file `Retzius_cell.npz`) and a P cell, which is a pressure receptor (file `P_cell.npz`)\n",
    "\n",
    "### Experimental background:\n",
    "With intracellular recordings, it is possible to stimulate a neuron with current (nA) at the same time as recording voltage (mV). The stimuli used for each of the two recordings are saved together with the cell responses in the two data files. The variables are named to be self-explanatory.\n",
    "\n",
    "Even though the membrane potential of a neuron changes continuously over time, a computer can only handle binned signals. For instance, one measurement is taken every millisecond, and the applied stimulus can also only change once per millisecond. Please note that 1 ms is a rather long time for the rapidly changing membrane potential. Electrophysiology is usually done with bin sizes between 0.01 ms and 0.1 ms, referring to between 100 and 10 data points per millisecond (100 and 10 kHz). The bin size used for the two example recordings was 0.1 ms, as you will also find in the data files.\n",
    "   \n",
    "### Task:\n",
    "- Please write / modify the notebook according to the help text and the section structure.\n",
    "- Your figure with the plots of the stimulus trace and the corresponding response of the neuron should look nice and have titles and axes labels (with units) giving all relevant information. Since the user of your program wants to assess visually, which stimulus gives which response, it makes sense to have the same time axis in two horizontally stretched subplots. The plot should have tight axis limits, starting at 0 seconds and ending with the last data value - no empty space at the beginning and the end of the axis.\n",
    "- The text in the cells below gives you more detailed instructions.\n",
    "- Run the notebook first with the data from the Retzius cell (file name `Retzius_cell.npz`). Write it in a way that makes your code also work with other recordings, by using variables. Then test it with the data from the T cell (file name `P_cell.npz`). Does your notebook also work for the other data file?\n",
    "\n",
    "The plot should be organized like this, with the upper subplot showing the current stimulus and the lower subplot showing the voltage response of the cell:\n",
    "\n",
    "![](template.png)"
   ]
  },
  {
   "cell_type": "markdown",
   "metadata": {},
   "source": [
    "### Load the data\n",
    "The `load_data` function accepts one input, the filename, which should be `Retzius_cell.npz` or `P_cell.npz`. These files need to be in the same folder as this notebook. You should get the correct folder structure automatically if you download the files from studIP.\n",
    "\n",
    "The function returns the following variables:\n",
    "- `stimulus`: The current stimulus that was used during the recording. In nA, as a list of floats.\n",
    "- `responses`: The voltage responses of the cell to multiple trials (representations of the stimulus). `responses` is a list of voltage traces, with each list element corresponding to the voltage trace for one of the trials. Each voltage trace is in turn a list of numbers corresponding to the time series of voltage values. The voltage values are in in units of mV.\n",
    "- `dt`: the time interval (bin size) with which stimulus and response values are sampled. In ms as a float.\n",
    "- `cell_name`: the name of the cell (\"Retzius cell\" or \"T cell\"), as a string\n",
    "\n",
    "To make loading the data you need to execute the cell below. If this worked, it should print \"Executed! You can now use `load_data`.\""
   ]
  },
  {
   "cell_type": "code",
   "execution_count": 1,
   "metadata": {},
   "outputs": [
    {
     "name": "stdout",
     "output_type": "stream",
     "text": [
      "Executed! You can now use `load_data`.\n"
     ]
    }
   ],
   "source": [
    "# EXECUTE, BUT DO NOT CHANGE THE CODE IN THIS CELL!!!\n",
    "# Don't worry if you do not understand what's going on...\n",
    "import numpy as np\n",
    "\n",
    "def load_data(filename):\n",
    "    d = np.load(filename)\n",
    "    return list(d['stimulus']), list(d['responses']), float(d['dt']), str(d['cell_name'])\n",
    "\n",
    "print('Executed! You can now use `load_data`.')\n",
    "# EXECUTE, BUT DO NOT CHANGE THE CODE IN THIS CELL!!!"
   ]
  },
  {
   "cell_type": "code",
   "execution_count": 2,
   "metadata": {},
   "outputs": [],
   "source": [
    "# change the filename to load data from another file - allowed are 'Retzius_cell.npz' and 'P_cell.npz'\n",
    "filename = 'Retzius_cell.npz'\n",
    "\n",
    "# this will load the data from the file in `filename` - DO NOT CHANGE THE CODE IN THE NEXT LINE\n",
    "stimulus, responses, dt, cell_name = load_data(filename)"
   ]
  },
  {
   "cell_type": "markdown",
   "metadata": {},
   "source": [
    "#### How many response trials? \n",
    "Determine the number of trials in `responses`."
   ]
  },
  {
   "cell_type": "code",
   "execution_count": 3,
   "metadata": {},
   "outputs": [],
   "source": [
    "# your solution here"
   ]
  },
  {
   "cell_type": "markdown",
   "metadata": {},
   "source": [
    "#### Make a list of time values for plotting\n",
    "Since we want to plot the stimulus and response using time in seconds as the x-axis, we need to make a list that contains the time point for each stimulus and response value (starting from 0 seconds). \n",
    "\n",
    "Use a for loop to create a list holding the times, __in seconds__ for each stimulus and response value. Consider that the time interval between each element in the stimulus and responses lists is __`dt` in ms__\n",
    "\n",
    "Hint: \n",
    "- Use `range` to generate a long list of numbers\n",
    "- Use a for-loop and the information on the bin size loaded from the file to convert each number in the list to seconds and append it to a new list."
   ]
  },
  {
   "cell_type": "code",
   "execution_count": 4,
   "metadata": {},
   "outputs": [],
   "source": [
    "# your solution here"
   ]
  },
  {
   "cell_type": "markdown",
   "metadata": {},
   "source": [
    "#### Plot the stimulus and the response for the first trial\n",
    "Plot the response (lower subplot) for the first trial alongside the stimulus (upper subplot) in a nicely annotated plot (x and y labels with units, title, fig size 20x4 inches, x axis limits are tight - they start/end with the first/last time point, see the figure template above)"
   ]
  },
  {
   "cell_type": "code",
   "execution_count": 5,
   "metadata": {},
   "outputs": [],
   "source": [
    "import matplotlib.pyplot as plt\n",
    "\n",
    "# your solution here"
   ]
  },
  {
   "cell_type": "markdown",
   "metadata": {},
   "source": [
    "#### Save the plot to a file\n",
    "Save as a png file, as done in the exercise. The filename should be the cell's name: `Retzius_cell.png` or `T_cell.png`.\n",
    "\n",
    "To construct the filename, you need to concatenate the cell name (loaded and provided by `load_data`) and the file extension ('.png'). If you do not know how to concatenate two strings using python, ask the internet (or an AI)."
   ]
  },
  {
   "cell_type": "markdown",
   "metadata": {},
   "source": [
    "#### Plot the voltage for all trials for the Retzius cell.\n",
    "The Retzius cell data contains responses from trials.\n",
    "\n",
    "Plot the responses for all trials alongside the stimulus: As before, the upper subplot should show the stimulus. The lower subplot should show the voltage traces for all trials. Of course, this plot should also be annotated properly.\n",
    "\n",
    "__Hint__ The variable `responses` is a list of voltage traces, one voltage race per trial. Use a for loop to get each voltage trace and plot it.\n",
    "\n"
   ]
  },
  {
   "cell_type": "code",
   "execution_count": 6,
   "metadata": {},
   "outputs": [],
   "source": [
    "# your solution here"
   ]
  }
 ],
 "metadata": {
  "kernelspec": {
   "display_name": "Python 3 (ipykernel)",
   "language": "python",
   "name": "python3"
  },
  "language_info": {
   "codemirror_mode": {
    "name": "ipython",
    "version": 3
   },
   "file_extension": ".py",
   "mimetype": "text/x-python",
   "name": "python",
   "nbconvert_exporter": "python",
   "pygments_lexer": "ipython3",
   "version": "3.11.5"
  },
  "vscode": {
   "interpreter": {
    "hash": "7ea0ec616133ead53c1908c8f6539f5c0cb9b2f78368e2bb6ab3f847e89ca400"
   }
  }
 },
 "nbformat": 4,
 "nbformat_minor": 4
}
