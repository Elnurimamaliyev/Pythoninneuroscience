{
 "cells": [
  {
   "cell_type": "markdown",
   "metadata": {},
   "source": [
    "# Neuroscientific data analysis in Matlab Winter Semester 2023/2024\n",
    "## Assignment – Week 2 - Spike detection\n",
    "\n",
    "Please upload your solution until Tuesday 31.10.23, end of the day (23.59 p.m.) to the folder `assignment uploads/assignment 2` in Stud.IP! \n",
    "\n",
    "__Important:__ Please replace ‘FullName` in the file name with your own full (first and last) name when saving and uploading the file!\n",
    "\n",
    "The goal of this assignment is to determine the time and the peak voltage of spikes in a recording.\n",
    "\n",
    "### Files:\n",
    "Please download all files in the folder. The data file `voltage_traces.txt` should be in the same folder as this notebook.\n",
    "\n",
    "Spikes are one of the major ways by which neurons communicate and both the amount and the timing of spikes matters. To understand the function of neuronal networks, we can therefore often reduce neuronal responses to a list of spike times.\n",
    "\n",
    "Hence, the detection of spikes in recordings of neuronal activity is a frequent first step of neuronal data analysis. \n",
    "\n",
    "You have now all the ingredients to solve that problem for the example of intracellular recordings. These data are highly simplified, since spikes only last a single sample - simple threshold of the voltage trace is therefore sufficient to detect spikes. More realistic spikes last a bit longer, and therefore require more sophisticated approaches for their detection.\n",
    "\n",
    "In this assignment you will write a function that detects spikes in different trials of an experiment.\n",
    "\n",
    "This will be a challenging assignment - see how far you can get!\n",
    "\n",
    "More details below, but to give you a quick overview:\n",
    "- You can load the data for a given trial using the function `load_voltage_data(trial_number)`. The first trial has a `trial_number` of 0.\n",
    "- First, plot the data to make sure you understand the data structure returned by that function\n",
    "- Second, write code in a notebook cell to detect the spikes and their voltages in the first trial (trial #0). Plot the voltage traces and overlay the spike times and voltages, like so:\n",
    "![](assignment_week2_example.png)\n",
    "- Third, turn your code into a function, and save it to an external file. Document the functions in the file properly (inputs, outputs, what does it do)\n",
    "- Fourth and last, import the function from the external file and detect and plot spikes for the first 10 trials of the experiment.\n",
    "- Comment your code!!"
   ]
  },
  {
   "cell_type": "code",
   "execution_count": 23,
   "metadata": {},
   "outputs": [],
   "source": [
    "import matplotlib.pyplot as plt\n",
    "import numpy as np"
   ]
  },
  {
   "cell_type": "markdown",
   "metadata": {},
   "source": [
    "### 1. Load and plot the voltage trace for one trial"
   ]
  },
  {
   "cell_type": "code",
   "execution_count": 24,
   "metadata": {},
   "outputs": [],
   "source": [
    "#  RUN BUT DO NOT CHANGE THIS CODE\n",
    "def load_voltage_data(trial: int = 0):\n",
    "    \"\"\"Loads data from file for a specific trial.\n",
    "\n",
    "    Args:\n",
    "        trial (int, optional): Trial number to load data for. Defaults to 0.\n",
    "\n",
    "    Returns:\n",
    "        list[float]: List of voltage values (as floats) for the trial\n",
    "    \"\"\"\n",
    "    all_trials = np.loadtxt('voltage_traces.txt')\n",
    "    single_trial = all_trials[trial, :].tolist()\n",
    "    return single_trial\n",
    "# DO NOT CHANGE THIS CODE"
   ]
  },
  {
   "cell_type": "markdown",
   "metadata": {},
   "source": [
    "The voltage is sampled with a bin duration of 1 ms - one voltage value per millisecond, which corresponds to 1 kHz.\n",
    "\n",
    "Plot the voltage trace from the first trial (trial number 0) with the correct time axis (in seconds):"
   ]
  },
  {
   "cell_type": "code",
   "execution_count": 25,
   "metadata": {},
   "outputs": [],
   "source": [
    "# your solution here"
   ]
  },
  {
   "cell_type": "markdown",
   "metadata": {},
   "source": [
    "### 2. Detect the spikes in the voltage traces\n",
    "We'd like to know:\n",
    "1. the total number of spikes\n",
    "2. the voltage values of all the spikes as a list\n",
    "3. the time (in seconds, not the index) of all the spikes as a list\n",
    "\n",
    "We define spikes as all voltage values that exceed a threshold of 0V.\n",
    "This works for this simple example. For real data, we need more complicated criteria (next week!).\n",
    "\n",
    "Write code that uses for loops and if statements to compute this information:"
   ]
  },
  {
   "cell_type": "code",
   "execution_count": 26,
   "metadata": {},
   "outputs": [],
   "source": [
    "# your solution here"
   ]
  },
  {
   "cell_type": "markdown",
   "metadata": {},
   "source": [
    "Plot the voltage traces with the detected spikes.\n",
    "\n",
    "Plot the voltage trace and, on top of the trace, overlay the peak of each spike with a translucent dot. \n",
    "The plot title should indicate the trial and the number of detected spikes. Roughly like so:\n",
    "\n",
    "![](assignment_2_example.png)\n",
    "\n",
    "Did your code detect all 67 spikes in the first trial?"
   ]
  },
  {
   "cell_type": "code",
   "execution_count": 27,
   "metadata": {},
   "outputs": [],
   "source": [
    "# your solution here"
   ]
  },
  {
   "cell_type": "markdown",
   "metadata": {},
   "source": [
    "### 3. Turn your code into a function and use the functions to detect and plot the spikes for the second trial.\n",
    "Your function for spike detection should have the following name, inputs (arguments), and outputs (returns):\n",
    "- name: detect_spikes\n",
    "- arguments:\n",
    "    - voltage (the recording)\n",
    "    - time (time (in seconds) for each value in recording)\n",
    "    - threshhold (voltage threshold for detecting spikes) \n",
    "- returns: \n",
    "    - spike_voltages (in mV)\n",
    "    - spike_times (in seconds)\n",
    "\n",
    "Document the function poperly - the arguments, the return values. Add a brief section with a description of the algorithm, so people know whether the code is appropriate for their data or definition of a spike.\n",
    "\n",
    "Additionally, make a function that plots the voltage trace and the spikes with the following specification:\n",
    "- name: plot_spikes\n",
    "- arguments:\n",
    "    - voltage (the recording)\n",
    "    - time (time (in seconds) for each value in recording)\n",
    "    - spike_voltages (voltage values at which spikes occurred)\n",
    "    - spike_times (time (in seconds) at which spikes occurred )\n",
    "\n",
    "Save the two functions - for spike detection and for plotting - to an external file.\n",
    "\n",
    "Import the code from the external file and use it to detect and plot the spikes for the second trial.\n",
    "\n",
    "__Hint:__ In the external file, you need to import everything you want to use, for instance, pyplot, even if you already imported it in the notebook.\n"
   ]
  },
  {
   "cell_type": "code",
   "execution_count": 28,
   "metadata": {},
   "outputs": [],
   "source": [
    "# your solution here"
   ]
  },
  {
   "cell_type": "markdown",
   "metadata": {},
   "source": [
    "Now use the functions to load the voltage data for the second trial, detect the spike times and voltages, and plot them:"
   ]
  },
  {
   "cell_type": "code",
   "execution_count": 29,
   "metadata": {},
   "outputs": [],
   "source": [
    "# your solution here"
   ]
  },
  {
   "cell_type": "markdown",
   "metadata": {},
   "source": [
    "### 4. Use a for loop to detect the spikes for the first 10 trials\n",
    "In the for loop:\n",
    "1. load data for the current trial\n",
    "2. detect the spikes using your function saved to an external file\n",
    "3. plot the voltage trace for the current trial and overlay the spikes (you can turn the code for plotting into a separate function)\n",
    "\n",
    "The plots should be properly labelled etc. The plot title should indicate the trial and the number of spikes detected in that trial.\n",
    "You should get a series of 10 plots, one for each of the first 10 trials."
   ]
  },
  {
   "cell_type": "code",
   "execution_count": 30,
   "metadata": {},
   "outputs": [],
   "source": [
    "# your solution here"
   ]
  }
 ],
 "metadata": {
  "kernelspec": {
   "display_name": "Python 3 (ipykernel)",
   "language": "python",
   "name": "python3"
  },
  "language_info": {
   "codemirror_mode": {
    "name": "ipython",
    "version": 3
   },
   "file_extension": ".py",
   "mimetype": "text/x-python",
   "name": "python",
   "nbconvert_exporter": "python",
   "pygments_lexer": "ipython3",
   "version": "3.11.6"
  },
  "vscode": {
   "interpreter": {
    "hash": "7ea0ec616133ead53c1908c8f6539f5c0cb9b2f78368e2bb6ab3f847e89ca400"
   }
  }
 },
 "nbformat": 4,
 "nbformat_minor": 4
}
