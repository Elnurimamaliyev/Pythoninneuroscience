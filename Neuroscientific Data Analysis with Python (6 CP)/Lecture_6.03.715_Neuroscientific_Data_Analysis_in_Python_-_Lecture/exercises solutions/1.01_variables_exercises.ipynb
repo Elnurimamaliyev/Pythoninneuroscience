{
 "cells": [
  {
   "cell_type": "markdown",
   "metadata": {},
   "source": [
    "# Exercises 1.1 - Variables\n",
    "\n",
    "## Exercises 1 - Variables and arithmetic\n",
    "### Compute the density of a whale using variables\n",
    "Mabel and Jolanda, our friends from the department of marine biology, ask us to help them with automating a computation for them.\n",
    "They have measured the weight and volume of Keiko, a whale they are tracking:\n",
    "- mass 41928 kg\n",
    "- volume 77.05 $m^3$\n",
    "\n",
    "They want to know Keiko's density. Knowing only basic python, they compute the whale's density as the ratio of its mass and volume:"
   ]
  },
  {
   "cell_type": "code",
   "execution_count": 1,
   "metadata": {},
   "outputs": [
    {
     "data": {
      "text/plain": [
       "544.1661258922777"
      ]
     },
     "execution_count": 1,
     "metadata": {},
     "output_type": "execute_result"
    }
   ],
   "source": [
    "41928 / 77.05"
   ]
  },
  {
   "cell_type": "markdown",
   "metadata": {},
   "source": [
    "This code has several disadvantages:\n",
    "- It is inflexible: Data values and computation are mixed.\n",
    "- It is not readable: It's unclear from the code alone what the two values are and what the code does!\n",
    "\n",
    "### Improve the code using variables\n",
    "- Make it flexible: Separate data and computation by creating two variables for mass and volume and by computing the density as the ratio of the two.\n",
    "- Make it readable: Give your variables meaningful names that indicate their content - do not use `a` and `b`. Add comments to indicate the variables' units."
   ]
  },
  {
   "cell_type": "code",
   "execution_count": 5,
   "metadata": {},
   "outputs": [
    {
     "name": "stdout",
     "output_type": "stream",
     "text": [
      "544.1661258922777\n"
     ]
    }
   ],
   "source": [
    "# your code here\n",
    "mass = 41928\n",
    "volume = 77.05\n",
    "density = mass / volume\n",
    "print (density)\n",
    "\n"
   ]
  },
  {
   "cell_type": "markdown",
   "metadata": {},
   "source": [
    "### Compute the whales' combined mass and volume, their individual densities, and the average of their densities.\n",
    "Mabel and Jolanda, our friends from the department of marine biology, need to ship Keiko and her mate, Moby, to the pacific. To know whether the capacity of our container is sufficient, they need to know their combined mass, their combined volume, and their average density. They need our help again!!\n",
    "\n",
    "Execute below cell once to create the variables for the whales' individual volumes and masses.\n",
    "Then perform the computations on these variables in the cell \"COMPUTATION!\" below that."
   ]
  },
  {
   "cell_type": "code",
   "execution_count": 11,
   "metadata": {},
   "outputs": [],
   "source": [
    "mass_keiko = 41928  # kg\n",
    "vol_keiko = 77.05  # m^3\n",
    "\n",
    "mass_moby = 38653  # kg\n",
    "vol_moby = 67.23  # m^3"
   ]
  },
  {
   "cell_type": "code",
   "execution_count": 14,
   "metadata": {},
   "outputs": [
    {
     "name": "stdout",
     "output_type": "stream",
     "text": [
      "559.5514550330048\n"
     ]
    }
   ],
   "source": [
    "# COMPUTATION!\n",
    "# your solution here\n",
    "combined_mass = mass_keiko + mass_moby\n",
    "combined_volume = vol_moby + vol_keiko\n",
    "\n",
    "density_keiko = mass_keiko / vol_keiko\n",
    "density_moby = mass_moby / vol_moby \n",
    "\n",
    "average_density = (density_keiko + density_moby) / 2\n",
    "print(average_density)"
   ]
  },
  {
   "cell_type": "markdown",
   "metadata": {},
   "source": [
    "## Exercise 2 - Calculate the area and the volume of a cube.\n",
    "Here are the formulas for the area and volume of a cube:\n",
    "- area = width * depth (area of the base of the cube)\n",
    "- volume = width * depth * height = area * height\n",
    "\n",
    "Make your code efficient by re-using already calculated results."
   ]
  },
  {
   "cell_type": "code",
   "execution_count": 16,
   "metadata": {},
   "outputs": [
    {
     "name": "stdout",
     "output_type": "stream",
     "text": [
      "2000\n"
     ]
    }
   ],
   "source": [
    "# use these variables\n",
    "width = 10\n",
    "depth = 2\n",
    "height = 100\n",
    "\n",
    "# your solution here\n",
    "area = width*depth\n",
    "volume = width*depth*height\n",
    "print(volume)"
   ]
  },
  {
   "cell_type": "markdown",
   "metadata": {},
   "source": [
    "## Exercise 3 - Calculate the circumference and area of a circle and the volume of a sphere\n",
    "- circumference of a circle: $2*\\pi*r$\n",
    "- area of a circle: $\\pi * r^2$\n",
    "- volume of a sphere: $4/3 * \\pi * r^3$\n",
    "\n",
    "$\\pi$ is approximately 3.14.\n",
    "Make your code efficient by re-using already calculated results.\n",
    "\n",
    "Bonus: Use google to find out how to get the actual value of pi in python.\n"
   ]
  },
  {
   "cell_type": "code",
   "execution_count": 40,
   "metadata": {},
   "outputs": [
    {
     "name": "stdout",
     "output_type": "stream",
     "text": [
      "533.8000000000001\n",
      "22686.5\n",
      "2571136.6666666665\n"
     ]
    }
   ],
   "source": [
    "pi = 3.14\n",
    "radius = 85\n",
    "\n",
    "circumference = 2*pi*radius\n",
    "print(circumference)\n",
    "area = pi*(radius**2)\n",
    "print(area)\n",
    "volume = 4/3*pi*(radius**3)\n",
    "print(volume)\n",
    "\n",
    "# your solution here\n"
   ]
  },
  {
   "cell_type": "markdown",
   "metadata": {},
   "source": [
    "## Exercise 4 - variable types and type casting\n",
    "### Adding two numbers, two strings, and a string and a number\n",
    "We know what happens when we add two variables that are numbers:\n",
    "```python\n",
    "x = 1\n",
    "y = 58\n",
    "x + y  # 59\n",
    "```\n",
    "\n",
    "Try and see what happens if you add two variables that are strings?\n",
    "```python\n",
    "x = \"George\"\n",
    "y = \"Michael\"\n",
    "x + y  #?\n",
    "```\n",
    "Can you explain what is happening here? Why does the \"+\" sign do different things?\n",
    "\n",
    "Try and see what happens if you add a variable that is a string to one that is a number?\n",
    "```python\n",
    "x = 10\n",
    "y = '20'\n",
    "x + y  # ?\n",
    "```\n",
    "Why does this fail?"
   ]
  },
  {
   "cell_type": "code",
   "execution_count": 28,
   "metadata": {},
   "outputs": [
    {
     "data": {
      "text/plain": [
       "30"
      ]
     },
     "execution_count": 28,
     "metadata": {},
     "output_type": "execute_result"
    }
   ],
   "source": [
    "# your try-and-see-what-happens code here\n",
    "x = 10\n",
    "y = '20'\n",
    "x + int(y)\n"
   ]
  },
  {
   "cell_type": "markdown",
   "metadata": {},
   "source": [
    "### Fix the last error above using type casting\n",
    "In the previous exercise, you observed that adding variables of different types - for instance a string and a number does not work.\n",
    "\n",
    "You can fix this by converting the types of variables so that they match - a procedure called _type casting_.\n",
    "\n",
    "A variable can be converted:\n",
    "- to text via the `str` (string) function,\n",
    "- to an integer number via the `int` function,\n",
    "- to a floating point number via the `float` function."
   ]
  },
  {
   "cell_type": "code",
   "execution_count": 29,
   "metadata": {},
   "outputs": [
    {
     "name": "stdout",
     "output_type": "stream",
     "text": [
      "\"str\" turns a variable into a string 10.0\n",
      "\"int\" turns a variable into an integer number 10\n",
      "\"float\" turns a variable into an floating point number 10.0\n"
     ]
    }
   ],
   "source": [
    "print('\"str\" turns a variable into a string', str(10.0))\n",
    "print('\"int\" turns a variable into an integer number', int('10'))\n",
    "print('\"float\" turns a variable into an floating point number', float('10.0'))"
   ]
  },
  {
   "cell_type": "markdown",
   "metadata": {},
   "source": [
    "Remember, functions are used via their name, followed by the input argument in parentheses: `output = function(input)`:"
   ]
  },
  {
   "cell_type": "code",
   "execution_count": 30,
   "metadata": {},
   "outputs": [
    {
     "name": "stdout",
     "output_type": "stream",
     "text": [
      "10\n"
     ]
    }
   ],
   "source": [
    "ten_as_text = str(10)\n",
    "print(ten_as_text)"
   ]
  },
  {
   "cell_type": "markdown",
   "metadata": {},
   "source": [
    "Fix below code by casting the variables \n",
    "\n",
    "1) to text using `str()` and\n",
    "2) to numbers using `float()` or `int()`"
   ]
  },
  {
   "cell_type": "code",
   "execution_count": 31,
   "metadata": {},
   "outputs": [
    {
     "data": {
      "text/plain": [
       "30.0"
      ]
     },
     "execution_count": 31,
     "metadata": {},
     "output_type": "execute_result"
    }
   ],
   "source": [
    "# FIXME!\n",
    "x = 10\n",
    "y = '20'\n",
    "x + float(y)\n"
   ]
  },
  {
   "cell_type": "markdown",
   "metadata": {},
   "source": [
    "## Exercise 4 - Keeping track of and re-using variables\n",
    "You can re-use variables that you have created in another cell previously. \n",
    "This allows you to split your computation into multiple cells.\n",
    "\n",
    "__Caution__: This re-use can have unexpected consequences if you run the same cell multiple times while coding or if you run your cells out of order.\n",
    "\n",
    "Let's do some exercises about that:"
   ]
  },
  {
   "cell_type": "markdown",
   "metadata": {},
   "source": [
    "### What's the value of `x` at end of the program below?\n",
    "Go through the program line-by-line _without running it_ and explain the value of `x`.\n",
    "\n",
    "```python\n",
    "w = 100\n",
    "x = 2\n",
    "x = w\n",
    "```\n",
    "\n",
    "And what is the value of now? Why?\n",
    "```python\n",
    "x = x + 10\n",
    "```"
   ]
  },
  {
   "cell_type": "markdown",
   "metadata": {},
   "source": [
    "### What's the value of `c` if we run the code below? What is the value of `c` if we run below code a second time? \n",
    "Try to predict what will happen before you run the code. Was your prediction you correct?"
   ]
  },
  {
   "cell_type": "code",
   "execution_count": 50,
   "metadata": {},
   "outputs": [
    {
     "data": {
      "text/plain": [
       "9"
      ]
     },
     "execution_count": 50,
     "metadata": {},
     "output_type": "execute_result"
    }
   ],
   "source": [
    "c = 1  # create a new variable `c` and give it a particular value (aka assign a value to `c`)\n",
    "d = c + 5   #  create a new variable `d` and assign to it the outcome of `c + 5`\n",
    "c = c + 8  # you can also re-assign values to existing variables - this allows you to update a variable during computation\n",
    "c"
   ]
  },
  {
   "cell_type": "markdown",
   "metadata": {},
   "source": [
    "### Again: What's the value of `c` if we run the code below once? What is the value of `c` if we run the code a second time? \n",
    "Predict what will happen without running the code (you need to have run the cell above before). Explain why."
   ]
  },
  {
   "cell_type": "code",
   "execution_count": 51,
   "metadata": {},
   "outputs": [
    {
     "data": {
      "text/plain": [
       "17"
      ]
     },
     "execution_count": 51,
     "metadata": {},
     "output_type": "execute_result"
    }
   ],
   "source": [
    "d = c + 5   #  create a new variable `d` and assign to it the outcome of `c + 5`\n",
    "c = c + 8  # you can also re-assign values to existing variables - this allows you to update a variable during computation\n",
    "c"
   ]
  },
  {
   "cell_type": "markdown",
   "metadata": {},
   "source": [
    "### What's the value of `c` in the below code? \n",
    "Why is it not `18 + 87 = 105`?"
   ]
  },
  {
   "cell_type": "code",
   "execution_count": 43,
   "metadata": {},
   "outputs": [
    {
     "data": {
      "text/plain": [
       "18"
      ]
     },
     "execution_count": 43,
     "metadata": {},
     "output_type": "execute_result"
    }
   ],
   "source": [
    "c = 18\n",
    "d = c + 512\n",
    "c + 87\n",
    "c"
   ]
  }
 ],
 "metadata": {
  "kernelspec": {
   "display_name": "Python 3 (ipykernel)",
   "language": "python",
   "name": "python3"
  },
  "language_info": {
   "codemirror_mode": {
    "name": "ipython",
    "version": 3
   },
   "file_extension": ".py",
   "mimetype": "text/x-python",
   "name": "python",
   "nbconvert_exporter": "python",
   "pygments_lexer": "ipython3",
   "version": "3.12.0"
  },
  "vscode": {
   "interpreter": {
    "hash": "7ea0ec616133ead53c1908c8f6539f5c0cb9b2f78368e2bb6ab3f847e89ca400"
   }
  }
 },
 "nbformat": 4,
 "nbformat_minor": 4
}
